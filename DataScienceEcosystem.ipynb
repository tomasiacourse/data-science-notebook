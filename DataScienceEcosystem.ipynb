{
 "cells": [
  {
   "cell_type": "markdown",
   "id": "400b9ca1-9894-44e4-9247-9f8373a5e938",
   "metadata": {},
   "source": [
    "<H1> Data Science Tools and Ecosystem</H1>"
   ]
  },
  {
   "cell_type": "markdown",
   "id": "aba24705-c89f-409e-8683-ca43230eb164",
   "metadata": {},
   "source": [
    "In this notebook, Data Science Tools and Ecosystem are summarized."
   ]
  },
  {
   "cell_type": "markdown",
   "id": "6a22638d-de01-455d-b536-981ae0ba5e8e",
   "metadata": {},
   "source": [
    "**Objectives:**  \n",
    "\n",
    "- List popular languages for Data Science.  \n",
    "- Identify commonly used libraries in Data Science.  \n",
    "- Summarize development environment open-source tools.  \n",
    "- Perform basic arithmetic operations in Python.  \n",
    "- Convert time units using Python expressions.  \n"
   ]
  },
  {
   "cell_type": "markdown",
   "id": "2244aa94-b23a-40ab-b123-6c9e78f493ab",
   "metadata": {},
   "source": [
    "## Data Science Languages\n",
    "\n",
    "Some of the popular languages that Data Scientists use are:  \n",
    "\n",
    "1. Python  \n",
    "2. R  \n",
    "3. SQL  \n",
    "4. Julia  \n",
    "5. Scala "
   ]
  },
  {
   "cell_type": "markdown",
   "id": "1cc737f7-852b-46e8-9ace-eccebc27806c",
   "metadata": {},
   "source": [
    "## Data Science Libraries  \n",
    "\n",
    "Some of the commonly used libraries used by Data Scientists include:  \n",
    "\n",
    "1. Pandas  \n",
    "2. NumPy  \n",
    "3. Matplotlib  \n",
    "4. Scikit-learn  \n",
    "5. TensorFlow  "
   ]
  },
  {
   "cell_type": "markdown",
   "id": "3c75c6f5-8987-4a78-8da3-7b96a09518f6",
   "metadata": {},
   "source": [
    "## Data Science Tools  \n",
    "\n",
    "Below is a table listing some open-source development environment tools used in Data Science:  \n",
    "\n",
    "| Data Science Tools |\n",
    "|--------------------|\n",
    "| Jupyter Notebook  |\n",
    "| RStudio           |\n",
    "| Apache Zeppelin   |\n"
   ]
  },
  {
   "cell_type": "markdown",
   "id": "e6b47981-0e5f-4e3a-aea7-abcc4c97b97a",
   "metadata": {},
   "source": [
    "### Below are a few examples of evaluating arithmetic expressions in Python.\n",
    "\n"
   ]
  },
  {
   "cell_type": "code",
   "execution_count": 2,
   "id": "caa309b1-2cf1-41c4-8b6a-5583335d6832",
   "metadata": {},
   "outputs": [
    {
     "data": {
      "text/plain": [
       "17"
      ]
     },
     "execution_count": 2,
     "metadata": {},
     "output_type": "execute_result"
    }
   ],
   "source": [
    "# This is a simple arithmetic expression to multiply then add integers.\n",
    "(3 * 4) + 5\n"
   ]
  },
  {
   "cell_type": "code",
   "execution_count": 5,
   "id": "84cec8f8-d43a-417c-b527-cde6faf9de9d",
   "metadata": {},
   "outputs": [
    {
     "data": {
      "text/plain": [
       "3.3333333333333335"
      ]
     },
     "execution_count": 5,
     "metadata": {},
     "output_type": "execute_result"
    }
   ],
   "source": [
    "# This will convert 200 minutes to hours by diving by 60\n",
    "\n",
    "200/60"
   ]
  },
  {
   "cell_type": "markdown",
   "id": "a2a3f7f9-b55e-4c46-8fb3-882d1b407c03",
   "metadata": {},
   "source": [
    "## Author  \n",
    "\n",
    "Tomas De Calisto\n"
   ]
  },
  {
   "cell_type": "code",
   "execution_count": null,
   "id": "e1def931-55ff-4a38-8f5c-c9a97ab3cedc",
   "metadata": {},
   "outputs": [],
   "source": []
  }
 ],
 "metadata": {
  "kernelspec": {
   "display_name": "Python 3 (ipykernel)",
   "language": "python",
   "name": "python3"
  },
  "language_info": {
   "codemirror_mode": {
    "name": "ipython",
    "version": 3
   },
   "file_extension": ".py",
   "mimetype": "text/x-python",
   "name": "python",
   "nbconvert_exporter": "python",
   "pygments_lexer": "ipython3",
   "version": "3.12.8"
  }
 },
 "nbformat": 4,
 "nbformat_minor": 5
}
